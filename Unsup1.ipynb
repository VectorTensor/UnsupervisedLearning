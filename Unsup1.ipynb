{
 "cells": [
  {
   "cell_type": "code",
   "execution_count": 1,
   "metadata": {},
   "outputs": [],
   "source": [
    "from numpy import *\n"
   ]
  },
  {
   "cell_type": "code",
   "execution_count": 2,
   "metadata": {},
   "outputs": [],
   "source": [
    "def loadDataSet(fileName):\n",
    "    dataMat =[]\n",
    "    fr = open(fileName)\n",
    "    for line in fr.readlines():\n",
    "        curLine = line.strip().split('\\t')\n",
    "        \n",
    "        fltLine = list(map(float, curLine))\n",
    "\n",
    "        dataMat.append(fltLine)\n",
    "    return dataMat\n",
    "\n",
    "def distEclud(vecA, vecB):\n",
    "    return sqrt(sum(power(vecA - vecB,2)))\n",
    "\n",
    "def rndCent(dataSet, k ):\n",
    "    n = shape(dataSet)[1]\n",
    "    centroids = mat(zeros((k,n)))\n",
    "    for j in range(n):\n",
    "        minJ = min(dataSet[:,j])\n",
    "        rangeJ = float(max(dataSet[:,j]) - minJ)\n",
    "        centroids[:,j] = minJ + rangeJ * random.rand(k,1)\n",
    "    return centroids\n"
   ]
  },
  {
   "cell_type": "code",
   "execution_count": 3,
   "metadata": {},
   "outputs": [],
   "source": [
    "datMat = mat(loadDataSet('testSet.txt'))\n",
    "\n",
    "\n"
   ]
  },
  {
   "cell_type": "code",
   "execution_count": 4,
   "metadata": {},
   "outputs": [
    {
     "data": {
      "text/plain": [
       "matrix([[-4.232586]])"
      ]
     },
     "execution_count": 4,
     "metadata": {},
     "output_type": "execute_result"
    }
   ],
   "source": [
    "min(datMat[:,1])"
   ]
  },
  {
   "cell_type": "code",
   "execution_count": 5,
   "metadata": {},
   "outputs": [
    {
     "data": {
      "text/plain": [
       "matrix([[-4.232586]])"
      ]
     },
     "execution_count": 5,
     "metadata": {},
     "output_type": "execute_result"
    }
   ],
   "source": [
    "min(datMat[:,1])"
   ]
  },
  {
   "cell_type": "code",
   "execution_count": 6,
   "metadata": {},
   "outputs": [
    {
     "data": {
      "text/plain": [
       "matrix([[0.83643773, 3.94665987],\n",
       "        [3.20500113, 3.33119277]])"
      ]
     },
     "execution_count": 6,
     "metadata": {},
     "output_type": "execute_result"
    }
   ],
   "source": [
    "rndCent(datMat, 2)"
   ]
  },
  {
   "cell_type": "code",
   "execution_count": 7,
   "metadata": {},
   "outputs": [
    {
     "data": {
      "text/plain": [
       "5.184632816681332"
      ]
     },
     "execution_count": 7,
     "metadata": {},
     "output_type": "execute_result"
    }
   ],
   "source": [
    "distEclud(datMat[0],datMat[1])"
   ]
  },
  {
   "cell_type": "code",
   "execution_count": 52,
   "metadata": {},
   "outputs": [],
   "source": [
    "def kMeans(dataSet, k , distMeas=distEclud, createCent= rndCent):\n",
    "    m = shape(dataSet)[0]\n",
    "    clusterAssment = mat(zeros((m,2)))\n",
    "    centroids = createCent(dataSet, k )\n",
    "    clusterChanged = True\n",
    "    while clusterChanged :\n",
    "        clusterChanged = False\n",
    "        for i in range(m):\n",
    "            minDist = inf; minIndex =-1\n",
    "            for j in range(k):\n",
    "                distJI = distMeas(centroids[j,:], dataSet[i,:])\n",
    "                if distJI < minDist:\n",
    "                    minDist = distJI; minIndex =j\n",
    "            if clusterAssment[i,0] != minIndex: clusterChanged = True\n",
    "            clusterAssment[i,:] = minIndex, minDist**2\n",
    "        #print (centroids)\n",
    "        for cent in range(k):\n",
    "            ptsInClust = dataSet[nonzero(clusterAssment[:,0].A == cent)[0]]\n",
    "            centroids[cent,:] = mean(ptsInClust, axis=0)\n",
    "\n",
    "    return centroids, clusterAssment\n"
   ]
  },
  {
   "cell_type": "code",
   "execution_count": 53,
   "metadata": {},
   "outputs": [],
   "source": [
    "datMat= mat(loadDataSet('testSet.txt'))"
   ]
  },
  {
   "cell_type": "code",
   "execution_count": 54,
   "metadata": {},
   "outputs": [],
   "source": [
    "myCentroids, clustAssing = kMeans(datMat, 4)"
   ]
  },
  {
   "cell_type": "code",
   "execution_count": 55,
   "metadata": {},
   "outputs": [],
   "source": [
    "def biKmeans(dataSet, k , distMeas=distEclud):\n",
    "    m = shape(dataSet)[0]\n",
    "    clusterAssment = mat(zeros((m,2)))\n",
    "    centroid0 = mean(dataSet, axis=0).tolist()[0]\n",
    "    \n",
    "    centList = [centroid0]\n",
    "    for j in range(m):\n",
    "        clusterAssment[j,1] = distMeas(mat(centroid0), dataSet[j,:])**2\n",
    "    while (len(centList) < k):\n",
    "        lowestSSE = inf\n",
    "        for i in range(len(centList)):\n",
    "            ptsInCurrCluster = dataSet[nonzero(clusterAssment[:,0].A ==i )[0],:]\n",
    "            centroidMat,splitClustAss = kMeans(ptsInCurrCluster,2, distMeas)\n",
    "            \n",
    "            sseSplit = sum(splitClustAss[:,1])\n",
    "            sseNotSplit = sum(clusterAssment[nonzero(clusterAssment[:,0].A != i)[0],1])\n",
    "            print (\"sseSplit , and not Split: \" , sseSplit, sseNotSplit)\n",
    "            if (sseSplit + sseNotSplit )< lowestSSE:\n",
    "                bestCentToSplit = i \n",
    "                bestNewCents = centroidMat\n",
    "                bestClustAss = splitClustAss.copy()\n",
    "                lowestSSE = sseSplit + sseNotSplit\n",
    "        bestClustAss[nonzero(bestClustAss[:,0].A == 1)[0],0]= len(centList)\n",
    "        bestClustAss[nonzero(bestClustAss[:,0].A == 0)[0],0]= bestCentToSplit\n",
    "        print(\"the best centtosplit is \", bestCentToSplit)\n",
    "        print('the len of bestclustass is :',len(bestClustAss))\n",
    "      \n",
    "        centList[bestCentToSplit] = bestNewCents[0,:].tolist()[0]\n",
    "        centList.append(bestNewCents[1,:].tolist()[0])\n",
    "        clusterAssment[nonzero(clusterAssment[:,0].A == bestCentToSplit)[0],:] = bestClustAss\n",
    "    #print(centList)\n",
    "    return mat(centList) , clusterAssment\n",
    "\n"
   ]
  },
  {
   "cell_type": "code",
   "execution_count": 56,
   "metadata": {},
   "outputs": [],
   "source": [
    "datMat3 = mat(loadDataSet('testSet2.txt'))\n"
   ]
  },
  {
   "cell_type": "code",
   "execution_count": 57,
   "metadata": {},
   "outputs": [
    {
     "name": "stdout",
     "output_type": "stream",
     "text": [
      "sseSplit , and not Split:  453.0334895807502 0.0\n",
      "the best centtosplit is  0\n",
      "the len of bestclustass is : 60\n",
      "sseSplit , and not Split:  77.59224931775066 29.15724944412535\n",
      "sseSplit , and not Split:  12.753263136887313 423.8762401366249\n",
      "the best centtosplit is  0\n",
      "the len of bestclustass is : 40\n"
     ]
    }
   ],
   "source": [
    "centList, myNewAssments = biKmeans(datMat3, 3)"
   ]
  },
  {
   "cell_type": "code",
   "execution_count": 58,
   "metadata": {},
   "outputs": [
    {
     "data": {
      "text/plain": [
       "matrix([[-2.94737575,  3.3263781 ],\n",
       "        [-0.45965615, -2.7782156 ],\n",
       "        [ 2.93386365,  3.12782785]])"
      ]
     },
     "execution_count": 58,
     "metadata": {},
     "output_type": "execute_result"
    }
   ],
   "source": [
    "centList"
   ]
  },
  {
   "cell_type": "code",
   "execution_count": null,
   "metadata": {},
   "outputs": [],
   "source": []
  }
 ],
 "metadata": {
  "kernelspec": {
   "display_name": "Python 3 (ipykernel)",
   "language": "python",
   "name": "python3"
  },
  "language_info": {
   "codemirror_mode": {
    "name": "ipython",
    "version": 3
   },
   "file_extension": ".py",
   "mimetype": "text/x-python",
   "name": "python",
   "nbconvert_exporter": "python",
   "pygments_lexer": "ipython3",
   "version": "3.10.6"
  },
  "orig_nbformat": 4,
  "vscode": {
   "interpreter": {
    "hash": "916dbcbb3f70747c44a77c7bcd40155683ae19c65e1c03b4aa3499c5328201f1"
   }
  }
 },
 "nbformat": 4,
 "nbformat_minor": 2
}
